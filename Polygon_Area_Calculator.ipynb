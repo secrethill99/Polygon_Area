{
  "nbformat": 4,
  "nbformat_minor": 0,
  "metadata": {
    "colab": {
      "provenance": [],
      "authorship_tag": "ABX9TyMOPFOI44k4bbf4QLNsRsPY",
      "include_colab_link": true
    },
    "kernelspec": {
      "name": "python3",
      "display_name": "Python 3"
    },
    "language_info": {
      "name": "python"
    }
  },
  "cells": [
    {
      "cell_type": "markdown",
      "metadata": {
        "id": "view-in-github",
        "colab_type": "text"
      },
      "source": [
        "<a href=\"https://colab.research.google.com/github/secrethill99/Polygon_Area/blob/main/Polygon_Area_Calculator.ipynb\" target=\"_parent\"><img src=\"https://colab.research.google.com/assets/colab-badge.svg\" alt=\"Open In Colab\"/></a>"
      ]
    },
    {
      "cell_type": "code",
      "execution_count": null,
      "metadata": {
        "id": "-ELGOLrfNcRs"
      },
      "outputs": [],
      "source": [
        "class Rectangle:\n",
        "    def __init__(self, width, height):\n",
        "        self.width = width\n",
        "        self.height = height\n",
        "\n",
        "    def set_width(self, width):\n",
        "        self.width = width\n",
        "\n",
        "    def set_height(self, height):\n",
        "        self.height = height\n",
        "\n",
        "    def get_area(self):\n",
        "        return self.width * self.height\n",
        "\n",
        "    def get_perimeter(self):\n",
        "        return 2 * (self.width + self.height)\n",
        "\n",
        "    def get_diagonal(self):\n",
        "        return (self.width ** 2 + self.height ** 2) ** 0.5\n",
        "\n",
        "    def get_picture(self):\n",
        "        if self.width > 50 or self.height > 50:\n",
        "            return \"Too big for picture.\"\n",
        "        picture = \"\"\n",
        "        for _ in range(self.height):\n",
        "            picture += \"*\" * self.width + \"\\n\"\n",
        "        return picture\n",
        "\n",
        "    def get_amount_inside(self, shape):\n",
        "        width_fit = self.width // shape.width\n",
        "        height_fit = self.height // shape.height\n",
        "        return width_fit * height_fit\n",
        "\n",
        "    def __str__(self):\n",
        "        return f\"Rectangle(width={self.width}, height={self.height})\""
      ]
    },
    {
      "cell_type": "code",
      "source": [
        "class Square(Rectangle):\n",
        "    def __init__(self, side):\n",
        "        super().__init__(side, side)\n",
        "        self.side = side\n",
        "\n",
        "    def set_side(self, side):\n",
        "        self.width = side\n",
        "        self.height = side\n",
        "        self.side = side\n",
        "\n",
        "    def set_width(self, width):\n",
        "        self.set_side(width)\n",
        "\n",
        "    def set_height(self, height):\n",
        "        self.set_side(height)\n",
        "\n",
        "    def __str__(self):\n",
        "        return f\"Square(side={self.side})\"\n"
      ],
      "metadata": {
        "id": "vUOnlSCvNi7P"
      },
      "execution_count": null,
      "outputs": []
    },
    {
      "cell_type": "code",
      "source": [
        "#Usage example\n",
        "rect = Rectangle(10, 5)\n",
        "print(rect.get_area())\n",
        "rect.set_height(3)\n",
        "print(rect.get_perimeter())\n",
        "print(rect)\n",
        "print(rect.get_picture())\n",
        "\n",
        "sq = Square(9)\n",
        "print(sq.get_area())\n",
        "sq.set_side(4)\n",
        "print(sq.get_diagonal())\n",
        "print(sq)\n",
        "print(sq.get_picture())\n",
        "\n",
        "rect.set_height(8)\n",
        "rect.set_width(16)\n",
        "print(rect.get_amount_inside(sq))"
      ],
      "metadata": {
        "colab": {
          "base_uri": "https://localhost:8080/"
        },
        "id": "kYL7e720NniK",
        "outputId": "a913e48d-fe2a-4bb0-b796-ff7b30d95993"
      },
      "execution_count": null,
      "outputs": [
        {
          "output_type": "stream",
          "name": "stdout",
          "text": [
            "50\n",
            "26\n",
            "Rectangle(width=10, height=3)\n",
            "**********\n",
            "**********\n",
            "**********\n",
            "\n",
            "81\n",
            "5.656854249492381\n",
            "Square(side=4)\n",
            "****\n",
            "****\n",
            "****\n",
            "****\n",
            "\n",
            "8\n"
          ]
        }
      ]
    }
  ]
}